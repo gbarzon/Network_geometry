{
 "cells": [
  {
   "cell_type": "markdown",
   "id": "7c13984c",
   "metadata": {},
   "source": [
    "### Birth-death process:\n",
    "$ \\dfrac{dx_i}{dt} = -B x_i^b + R \\sum_j A_{ij} x_j^a$\n",
    "* b=3, a=2\n",
    "* b=2, a=1\n",
    "* b=0.5, a=0.2\n",
    "\n",
    "### Mutualistic\n",
    "$ \\dfrac{dx_i}{dt} = B x_i(1-x_i^b) + R \\sum_j A_{ij} x_i \\dfrac{x_j^a}{1+x_j^a} $\n",
    "* b=2, a=1\n",
    "* b=1, a=2\n",
    "\n",
    "### Generalized Lotka-Volterra\n",
    "$ \\dfrac{dx_i}{dt} = -B x_i + R \\sum_j A_{ij} x_i x_j $"
   ]
  },
  {
   "cell_type": "markdown",
   "id": "005ab61a",
   "metadata": {},
   "source": [
    "# Networks\n",
    "from https://networks.skewed.de/?search=\n",
    "* fresh_webs — Freshwater stream webs\n",
    "* plant_pol_kato — Kato plant-pollinator web (BUT too big)"
   ]
  },
  {
   "cell_type": "code",
   "execution_count": 2,
   "id": "4fcbae66",
   "metadata": {
    "ExecuteTime": {
     "end_time": "2022-04-13T12:23:02.871865Z",
     "start_time": "2022-04-13T12:23:02.869390Z"
    }
   },
   "outputs": [],
   "source": [
    "# Provare birth death\n",
    "# a=1,b=1\n",
    "# a=2,b=1\n",
    "# a=1,b=2\n",
    "# a=2,b=2\n",
    "# a=1,b=0.5\n",
    "# a=0.5,b=1"
   ]
  },
  {
   "cell_type": "code",
   "execution_count": null,
   "id": "ffb30b51",
   "metadata": {},
   "outputs": [],
   "source": []
  }
 ],
 "metadata": {
  "kernelspec": {
   "display_name": "Python 3",
   "language": "python",
   "name": "python3"
  },
  "language_info": {
   "codemirror_mode": {
    "name": "ipython",
    "version": 3
   },
   "file_extension": ".py",
   "mimetype": "text/x-python",
   "name": "python",
   "nbconvert_exporter": "python",
   "pygments_lexer": "ipython3",
   "version": "3.6.9"
  },
  "varInspector": {
   "cols": {
    "lenName": 16,
    "lenType": 16,
    "lenVar": 40
   },
   "kernels_config": {
    "python": {
     "delete_cmd_postfix": "",
     "delete_cmd_prefix": "del ",
     "library": "var_list.py",
     "varRefreshCmd": "print(var_dic_list())"
    },
    "r": {
     "delete_cmd_postfix": ") ",
     "delete_cmd_prefix": "rm(",
     "library": "var_list.r",
     "varRefreshCmd": "cat(var_dic_list()) "
    }
   },
   "types_to_exclude": [
    "module",
    "function",
    "builtin_function_or_method",
    "instance",
    "_Feature"
   ],
   "window_display": false
  }
 },
 "nbformat": 4,
 "nbformat_minor": 5
}
