{
 "cells": [
  {
   "cell_type": "code",
   "execution_count": 19,
   "id": "67c89385",
   "metadata": {},
   "outputs": [
    {
     "data": {
      "text/plain": [
       "<module 'plotter' from '/home/barzon/Network_geometry/Code_8thJune/Dynamics_v2/plotter.py'>"
      ]
     },
     "execution_count": 19,
     "metadata": {},
     "output_type": "execute_result"
    }
   ],
   "source": [
    "import sys\n",
    "\n",
    "import networkx as nx\n",
    "import igraph as ig\n",
    "from networkx.generators.community import LFR_benchmark_graph\n",
    "\n",
    "import numpy as np\n",
    "import scipy as sp\n",
    "import time\n",
    "\n",
    "import matplotlib.pyplot as plt\n",
    "plt.rcParams[\"font.size\"] = 15\n",
    "plt.rcParams[\"lines.linewidth\"] = 3\n",
    "\n",
    "#sys.path.append(\"/home/oriol/Documents/Trento/JacobianGeometry/Code/Dynamics_v2/\")\n",
    "#sys.path.append(\"/Users/giacomobarzon/Desktop/jacobian_geometry/Code_8thJune/Dynamics_v2/\")\n",
    "sys.path.append(\"/home/barzon/Network_geometry/Code_8thJune/Dynamics_v2/\")\n",
    "\n",
    "import CommonFunctions as cf\n",
    "import plotter\n",
    "\n",
    "import importlib\n",
    "importlib.reload(cf)\n",
    "importlib.reload(plotter)"
   ]
  },
  {
   "cell_type": "code",
   "execution_count": 3,
   "id": "176f781b",
   "metadata": {},
   "outputs": [
    {
     "name": "stdout",
     "output_type": "stream",
     "text": [
      "Block model probs: in 0.523333 - out 0.003333\n",
      "Mean degree 7.4\n"
     ]
    },
    {
     "data": {
      "image/png": "[encoded data removed]",
      "text/plain": [
       "<Figure size 432x288 with 1 Axes>"
      ]
     },
     "metadata": {},
     "output_type": "display_data"
    }
   ],
   "source": [
    "N = 60\n",
    "mean_deg = 8.\n",
    "\n",
    "num_groups = 4; nodes_per_group = N//4; kave = mean_deg; k_out = .15#kave is local average\n",
    "k_in = kave - k_out\n",
    "p_in = k_in/nodes_per_group\n",
    "p_out = k_out/(nodes_per_group*num_groups - nodes_per_group)\n",
    "print('Block model probs: in %f - out %f' % (p_in, p_out))\n",
    "\n",
    "G_gn = nx.planted_partition_graph(num_groups, nodes_per_group, p_in, p_out, directed=False)\n",
    "\n",
    "while nx.is_connected(G_gn) == 0:\n",
    "    print('The network should be in a single component. New trial!')\n",
    "    G_gn = nx.planted_partition_graph(num_groups, nodes_per_group, p_in, p_out, directed=False)\n",
    "\n",
    "infoG_gn = ['GN',k_out]\n",
    "\n",
    "print('Mean degree', np.mean(list(dict(G_gn.degree()).values())))\n",
    "\n",
    "nx.draw(G_gn)"
   ]
  },
  {
   "cell_type": "code",
   "execution_count": null,
   "id": "61e3d117",
   "metadata": {},
   "outputs": [],
   "source": [
    "def Dij(Aij, t):\n",
    "    L = np.eye(N) - Aij / np.sum(Aij, axis=1)[:,None]\n",
    "    degree = np.sum(Aij, axis=1)\n",
    "    \n",
    "    # Compute Lsim\n",
    "    D = np.diag(degree)\n",
    "    D_inv = np.diag(1/degree)\n",
    "    D_sqrt = sp.linalg.sqrtm(D)\n",
    "    Lsim = sp.linalg.inv(D_sqrt)@(D-Aij)@sp.linalg.inv(D_sqrt)\n",
    "    \n",
    "    # Diagonalize Lsim\n",
    "    eigvals, eig_l, eig_r = sp.linalg.eig(Lsim, left=True, right=True)\n",
    "\n",
    "    # Get real values\n",
    "    eigvals = np.real(eigvals)\n",
    "    eig_l = np.real(eig_l)\n",
    "    eig_r = np.real(eig_r)"
   ]
  },
  {
   "cell_type": "code",
   "execution_count": 28,
   "id": "3a13df83",
   "metadata": {},
   "outputs": [],
   "source": [
    "Aij = nx.to_numpy_array(G_gn)\n",
    "L = np.eye(N) - Aij / np.sum(Aij, axis=1)[:,None]\n",
    "\n",
    "degree = np.sum(Aij, axis=1)\n",
    "D = np.diag(degree)\n",
    "D_inv = np.diag(1/degree)\n",
    "\n",
    "D_sqrt = sp.linalg.sqrtm(D)"
   ]
  },
  {
   "cell_type": "code",
   "execution_count": 29,
   "id": "9930ec10",
   "metadata": {},
   "outputs": [],
   "source": [
    "Lsim = sp.linalg.inv(D_sqrt)@(D-Aij)@sp.linalg.inv(D_sqrt)"
   ]
  },
  {
   "cell_type": "code",
   "execution_count": 51,
   "id": "4841a424",
   "metadata": {},
   "outputs": [],
   "source": [
    "# Diagonalize Lsim\n",
    "eigvals, eig_l, eig_r = sp.linalg.eig(Lsim, left=True, right=True)\n",
    "\n",
    "# Get real values\n",
    "eigvals = np.real(eigvals)\n",
    "eig_l = np.real(eig_l)\n",
    "eig_r = np.real(eig_r)"
   ]
  },
  {
   "cell_type": "code",
   "execution_count": 84,
   "id": "7c96cba3",
   "metadata": {},
   "outputs": [],
   "source": [
    "t=1\n",
    "i=0\n",
    "j=1"
   ]
  },
  {
   "cell_type": "code",
   "execution_count": 93,
   "id": "1e155460",
   "metadata": {},
   "outputs": [
    {
     "data": {
      "text/plain": [
       "0.039461220867770395"
      ]
     },
     "execution_count": 93,
     "metadata": {},
     "output_type": "execute_result"
    }
   ],
   "source": [
    "np.sum( np.exp(-2*t*eigvals) * (eig_r[i]/np.sqrt(degree[i]) - eig_r[j]/np.sqrt(degree[j]))**2 ) #* np.sum(eig_r**2 * degree)"
   ]
  },
  {
   "cell_type": "code",
   "execution_count": 94,
   "id": "4c1f1136",
   "metadata": {},
   "outputs": [],
   "source": [
    "# Diagonalize Lsim\n",
    "eigvals, eig_l, eig_r = sp.linalg.eig(L, left=True, right=True)\n",
    "\n",
    "# Get real values\n",
    "eigvals = np.real(eigvals)\n",
    "eig_l = np.real(eig_l)\n",
    "eig_r = np.real(eig_r)"
   ]
  },
  {
   "cell_type": "code",
   "execution_count": 102,
   "id": "873039ef",
   "metadata": {},
   "outputs": [
    {
     "data": {
      "text/plain": [
       "59.77757372739492"
      ]
     },
     "execution_count": 102,
     "metadata": {},
     "output_type": "execute_result"
    }
   ],
   "source": [
    "np.sum(eig_r.T@eig_r*eigvals - L)"
   ]
  },
  {
   "cell_type": "code",
   "execution_count": 105,
   "id": "6e11e018",
   "metadata": {},
   "outputs": [
    {
     "data": {
      "text/plain": [
       "1.33385853635077e-14"
      ]
     },
     "execution_count": 105,
     "metadata": {},
     "output_type": "execute_result"
    }
   ],
   "source": [
    "np.sum( L@eig_r - eigvals*eig_r )"
   ]
  },
  {
   "cell_type": "code",
   "execution_count": null,
   "id": "e68d91c5",
   "metadata": {},
   "outputs": [],
   "source": []
  }
 ],
 "metadata": {
  "kernelspec": {
   "display_name": "Python 3",
   "language": "python",
   "name": "python3"
  },
  "language_info": {
   "codemirror_mode": {
    "name": "ipython",
    "version": 3
   },
   "file_extension": ".py",
   "mimetype": "text/x-python",
   "name": "python",
   "nbconvert_exporter": "python",
   "pygments_lexer": "ipython3",
   "version": "3.6.9"
  }
 },
 "nbformat": 4,
 "nbformat_minor": 5
}
