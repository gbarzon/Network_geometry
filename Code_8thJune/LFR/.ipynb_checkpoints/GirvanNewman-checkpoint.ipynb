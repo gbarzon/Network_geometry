{
 "cells": [
  {
   "cell_type": "code",
   "execution_count": 2,
   "metadata": {},
   "outputs": [],
   "source": [
    "import sys\n",
    "\n",
    "import networkx as nx\n",
    "from networkx.generators.community import LFR_benchmark_graph\n",
    "\n",
    "import numpy as np\n",
    "from scipy.integrate import odeint\n",
    "from scipy.optimize import fsolve\n",
    "from scipy.sparse.linalg import spsolve\n",
    "import networkx as nx\n",
    "from scipy.linalg import expm\n",
    "import time\n",
    "\n",
    "\n",
    "sys.path.append(\"/home/oriol/Documents/Trento/JacobianGeometry/Code/Dynamics/\")\n",
    "import CommonFunctions as cf"
   ]
  },
  {
   "cell_type": "code",
   "execution_count": 3,
   "metadata": {},
   "outputs": [
    {
     "name": "stdout",
     "output_type": "stream",
     "text": [
      "Mean degree 15.59375\n"
     ]
    }
   ],
   "source": [
    "#Creating Girvan-Newman network\n",
    "num_groups = 2\n",
    "nodes_per_group = 32\n",
    "kave = 16 #local average\n",
    "k_out = 5\n",
    "k_in = kave - k_out\n",
    "p_in = k_in/nodes_per_group\n",
    "p_out = k_out/(nodes_per_group*num_groups - nodes_per_group)\n",
    "\n",
    "\n",
    "G_gn = nx.planted_partition_graph(num_groups, nodes_per_group, p_in, p_out, directed=False)\n",
    "\n",
    "print('Mean degree', np.mean(list(dict(G_gn.degree()).values())))\n"
   ]
  },
  {
   "cell_type": "code",
   "execution_count": 9,
   "metadata": {},
   "outputs": [
    {
     "name": "stdout",
     "output_type": "stream",
     "text": [
      "Mean degree 4.452\n"
     ]
    }
   ],
   "source": [
    "#Creating LFR benchmark\n",
    "N = 500\n",
    "degree_exp = 3.\n",
    "commsize_exp = 1.5\n",
    "mixing_parm = 0.1\n",
    "mean_k = 5\n",
    "min_community = 20\n",
    "\n",
    "G_lfr = LFR_benchmark_graph(N, degree_exp, commsize_exp, mixing_parm, \n",
    "                            average_degree = mean_k, min_community = min_community,\n",
    "                            tol=1e-07, max_iters=500)\n",
    "\n",
    "print('Mean degree', np.mean(list(dict(G_lfr.degree()).values())))"
   ]
  },
  {
   "cell_type": "code",
   "execution_count": 5,
   "metadata": {},
   "outputs": [],
   "source": [
    "def Simu(dynamics, G, infoG):\n",
    "    \"\"\"\n",
    "    Inputs: dynamics (any from  dynamics_list = ['Mutualistic', 'Biochemical', 'Population', 'Regulatory',\n",
    "                                                 'Epidemics','Synchronization', 'Neuronal', 'NoisyVM'])\n",
    "            Network topology G\n",
    "            infoG (list): Info about the network. infoG[0] = network_type; infoG[i>0] = parameters\n",
    "    \"\"\"\n",
    "    start_time = time.time()\n",
    "    \n",
    "    num_nodes = G.number_of_nodes()\n",
    "    num_time_points = 100 # small to decrease computational load\n",
    "    times = np.linspace(0, 100, num = num_time_points) #time to find the steady state    \n",
    "    str_tp = \"np.logspace(-2, 2., num = num_time_points)\" #times at which we look how the perturbation evolves\n",
    "    times_perturbation = eval(str_tp)\n",
    "\n",
    "    if dynamics in ['Mutualistic', 'Population', 'Regulatory','Synchronization', 'Neuronal']:\n",
    "        perturbation_strength = 0.5\n",
    "    elif dynamics in ['Biochemical', 'Epidemics', 'NoisyVM']:\n",
    "        perturbation_strength = 0.05\n",
    "    else:\n",
    "        print('Dynamics not valid. Manual Exiting')\n",
    "        exit()\n",
    "    \n",
    "    if nx.is_connected(G) == 0:\n",
    "        raise ValueError('The network should be in a single component. Exit!')\n",
    "    \n",
    "\n",
    "    #Integration to get the steady state\n",
    "    initial_state = np.random.random(len(G.nodes()))   \n",
    "#    initial_state = np.ones(len(G.nodes()))\n",
    "\n",
    "    SteadyState_ref = cf.Numerical_Integration(G, dynamics, initial_state, times = times, fixed_node = 1e+6, show = 1)\n",
    "#        SteadyState_ref = SteadyState_ref[-1]/max(SteadyState_ref[-1])\n",
    "    SteadyState_ref = SteadyState_ref[-1]\n",
    "\n",
    "    d_t = cf.Jacobian(G, dynamics, SteadyState_ref, \n",
    "                      perturbation_strength, times_perturbation)\n",
    "\n",
    "    mean_d = np.zeros(num_time_points)\n",
    "    d_ij = np.zeros((num_time_points,num_nodes,num_nodes))\n",
    "        \n",
    "    c = 0\n",
    "    for node1 in range(0, num_nodes):\n",
    "      print(node1)\n",
    "      for node2 in range(node1, num_nodes):\n",
    "          if node1 != node2:\n",
    "            Perturbed_SteadyState = cf.Numerical_Integration_perturbation(G,dynamics,SteadyState_ref,\n",
    "                                                                          node1,node2, perturbation_strength,\n",
    "                                                                          times = times_perturbation,\n",
    "                                                                          fixed_node = 1e+6, show = 0)\n",
    "\n",
    "#                delta1 = abs(Perturbed_SteadyState[:,node1] - SteadyState_ref[node1])\n",
    "#                delta2 = abs(Perturbed_SteadyState[:,node2] - SteadyState_ref[node2])\n",
    "#                d_tmp = abs(delta1 - delta2)\n",
    "#                mean_d += d_tmp\n",
    "\n",
    "            delta1 = Perturbed_SteadyState[:,node1] - SteadyState_ref[node1]\n",
    "            delta2 = Perturbed_SteadyState[:,node2] - SteadyState_ref[node2]\n",
    "            d_tmp = np.sqrt(delta1*delta1 + delta2*delta2)\n",
    "            \n",
    "#            if d_tmp != 0:\n",
    "            c+=1\n",
    "            mean_d += d_tmp\n",
    "\n",
    "            if 0 in d_tmp:\n",
    "                print('0 inside ', c)\n",
    "\n",
    "            d_ij[:, node1,node2] = d_tmp\n",
    "            \n",
    "    d_ij = d_ij/c\n",
    "    mean_d = mean_d/c\n",
    "    \n",
    "    PrintFiles(dynamics, G, infoG)\n",
    "\n",
    "    print(\"--- %s seconds ---\" % (time.time() - start_time))\n",
    "\n",
    "    return\n"
   ]
  },
  {
   "cell_type": "code",
   "execution_count": null,
   "metadata": {},
   "outputs": [
    {
     "data": {
      "image/png": "[encoded data removed]",
      "text/plain": [
       "<Figure size 432x288 with 1 Axes>"
      ]
     },
     "metadata": {
      "needs_background": "light"
     },
     "output_type": "display_data"
    },
    {
     "name": "stdout",
     "output_type": "stream",
     "text": [
      "0\n"
     ]
    }
   ],
   "source": [
    "dyn = 'Epidemics'\n",
    "infoG = ['GN',k_out]\n",
    "Simu(dyn,G_gn,infoG)"
   ]
  },
  {
   "cell_type": "code",
   "execution_count": null,
   "metadata": {},
   "outputs": [],
   "source": [
    "dynamics_list = ['Mutualistic', 'Biochemical', 'Population', 'Regulatory', \n",
    "                 'Epidemics','Synchronization', 'Neuronal', 'NoisyVM']\n",
    "infoG = ['GN',k_out]\n",
    "for dyn in dynamics_list:\n",
    "    print(dyn, 'dynamics')\n",
    "    Simu(dyn,G_gn,infoG)"
   ]
  }
 ],
 "metadata": {
  "kernelspec": {
   "display_name": "Python 3",
   "language": "python",
   "name": "python3"
  },
  "language_info": {
   "codemirror_mode": {
    "name": "ipython",
    "version": 3
   },
   "file_extension": ".py",
   "mimetype": "text/x-python",
   "name": "python",
   "nbconvert_exporter": "python",
   "pygments_lexer": "ipython3",
   "version": "3.6.8"
  }
 },
 "nbformat": 4,
 "nbformat_minor": 2
}
