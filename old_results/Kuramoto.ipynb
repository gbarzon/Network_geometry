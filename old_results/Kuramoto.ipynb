{
 "cells": [
  {
   "cell_type": "code",
   "execution_count": 9,
   "id": "503954fc",
   "metadata": {
    "ExecuteTime": {
     "end_time": "2022-06-16T12:05:43.178624Z",
     "start_time": "2022-06-16T12:05:43.174666Z"
    }
   },
   "outputs": [],
   "source": [
    "import numpy as np\n",
    "import matplotlib.pyplot as plt\n",
    "\n",
    "import networkx as nx"
   ]
  },
  {
   "cell_type": "code",
   "execution_count": 2,
   "id": "74cea7d8",
   "metadata": {
    "ExecuteTime": {
     "end_time": "2022-06-16T12:04:25.318617Z",
     "start_time": "2022-06-16T12:04:24.640287Z"
    }
   },
   "outputs": [],
   "source": [
    "from utils import CommonFunctions_old as CF"
   ]
  },
  {
   "cell_type": "code",
   "execution_count": 6,
   "id": "cf9680f7",
   "metadata": {
    "ExecuteTime": {
     "end_time": "2022-06-16T12:05:01.956940Z",
     "start_time": "2022-06-16T12:05:01.948763Z"
    }
   },
   "outputs": [],
   "source": [
    "def create_graph_comms(N, num_groups, mean_deg, k_out):\n",
    "    nodes_per_group = N//num_groups; kave = mean_deg; k_out = .2#k_out = .15#kave is local average\n",
    "    k_in = kave - k_out\n",
    "    p_in = k_in/nodes_per_group\n",
    "    p_out = k_out/(nodes_per_group*num_groups - nodes_per_group)\n",
    "    print('Block model probs: in %f - out %f' % (p_in, p_out))\n",
    "\n",
    "    G_gn = nx.planted_partition_graph(num_groups, nodes_per_group, p_in, p_out, directed=False)\n",
    "\n",
    "    while nx.is_connected(G_gn) == 0:\n",
    "        print('The network should be in a single component. New trial!')\n",
    "        G_gn = nx.planted_partition_graph(num_groups, nodes_per_group, p_in, p_out, directed=False)\n",
    "\n",
    "    infoG_gn = ['GN',k_out]\n",
    "\n",
    "    print('Mean degree', np.mean(list(dict(G_gn.degree()).values())))\n",
    "    \n",
    "    return G_gn"
   ]
  },
  {
   "cell_type": "code",
   "execution_count": 7,
   "id": "c674df4a",
   "metadata": {
    "ExecuteTime": {
     "end_time": "2022-06-16T12:05:23.850902Z",
     "start_time": "2022-06-16T12:05:23.846829Z"
    }
   },
   "outputs": [],
   "source": [
    "N = 128\n",
    "num_groups = 4\n",
    "mean_deg = 16\n",
    "k_out = .2"
   ]
  },
  {
   "cell_type": "code",
   "execution_count": 10,
   "id": "630897ad",
   "metadata": {
    "ExecuteTime": {
     "end_time": "2022-06-16T12:05:46.012823Z",
     "start_time": "2022-06-16T12:05:45.989714Z"
    }
   },
   "outputs": [
    {
     "name": "stdout",
     "output_type": "stream",
     "text": [
      "Block model probs: in 0.493750 - out 0.002083\n",
      "Mean degree 15.1875\n"
     ]
    }
   ],
   "source": [
    "G_gn = create_graph_comms(N, num_groups, mean_deg, k_out)\n",
    "A_gn = nx.to_numpy_array(G_gn)\n",
    "\n",
    "#G_rand = nx.random_reference(G_gn, niter=1)\n",
    "#A_rand = nx.to_numpy_array(G_rand)"
   ]
  },
  {
   "cell_type": "code",
   "execution_count": 11,
   "id": "42ff45b2",
   "metadata": {
    "ExecuteTime": {
     "end_time": "2022-06-16T12:05:52.089680Z",
     "start_time": "2022-06-16T12:05:48.078350Z"
    }
   },
   "outputs": [
    {
     "data": {
      "image/png": "[encoded data removed]",
      "text/plain": [
       "<Figure size 432x288 with 1 Axes>"
      ]
     },
     "metadata": {
      "needs_background": "light"
     },
     "output_type": "display_data"
    }
   ],
   "source": [
    "initial_state = np.random.random(N)\n",
    "steady_state = CF.Numerical_Integration(A_gn, 'Synchronization', initial_state, show=True)"
   ]
  },
  {
   "cell_type": "code",
   "execution_count": 12,
   "id": "fad3fc84",
   "metadata": {
    "ExecuteTime": {
     "end_time": "2022-06-16T12:06:31.726691Z",
     "start_time": "2022-06-16T12:06:31.717719Z"
    }
   },
   "outputs": [],
   "source": [
    "def Model_Synchronization(xx, t, G, fixed_node, w = 0., R = 1.):\n",
    "    \"\"\"\n",
    "    m_0 = \"w\"; \n",
    "    m_1 = \"R\"; \n",
    "    m_2 = \"sin(xx[j] - xx[i])\"\n",
    "    \"\"\"    \n",
    "    \n",
    "    return w + R * np.sum(G*np.sin(xx - xx[:,None]), axis=1)\n",
    "\n",
    "def Jacobian_Synchronization(G, xx, w = 0., R = 1.):\n",
    "    num_nodes = G.shape[0]\n",
    "    \n",
    "    G[np.diag_indices_from(G)] = 0\n",
    "    J = - R * np.sum(G*np.cos(xx - xx[:,None]), axis=1) * np.eye(num_nodes) + R * G*np.cos(xx - xx[:,None])\n",
    "    \n",
    "    return J"
   ]
  },
  {
   "cell_type": "code",
   "execution_count": 67,
   "id": "a3008d58",
   "metadata": {
    "ExecuteTime": {
     "end_time": "2022-06-16T12:33:26.627942Z",
     "start_time": "2022-06-16T12:33:26.623465Z"
    }
   },
   "outputs": [],
   "source": [
    "cs = ['purple', 'b', 'r', 'g']\n",
    "comms = [np.zeros(N//num_groups)+c for c in range(num_groups)]\n",
    "comms = np.concatenate(comms).astype('int')"
   ]
  },
  {
   "cell_type": "code",
   "execution_count": 78,
   "id": "69a2c041",
   "metadata": {
    "ExecuteTime": {
     "end_time": "2022-06-16T12:42:26.233033Z",
     "start_time": "2022-06-16T12:42:26.224475Z"
    }
   },
   "outputs": [],
   "source": [
    "def kuramoto(A, init=None, dt=0.001, T=int(1e3), w=0, R=1, show=False):\n",
    "    N = A.shape[0]\n",
    "    states = np.zeros((T,N))\n",
    "    states[0] = np.random.random(N)\n",
    "\n",
    "    for t in range(1,T):\n",
    "        states[t] = states[t-1] + Model_Synchronization(states[t-1], [], A, [], w = 0., R = 1.) * dt\n",
    "    \n",
    "    if show:\n",
    "        for i, tmp in enumerate(states.T):\n",
    "            plt.plot(tmp, c=cs[comms[i]], alpha=0.9)\n",
    "        plt.xlabel('t')\n",
    "        plt.ylabel(r'$\\theta_i$')\n",
    "        plt.show()\n",
    "        \n",
    "    return states"
   ]
  },
  {
   "cell_type": "code",
   "execution_count": 80,
   "id": "0ba86136",
   "metadata": {
    "ExecuteTime": {
     "end_time": "2022-06-16T12:42:31.404871Z",
     "start_time": "2022-06-16T12:42:30.563513Z"
    }
   },
   "outputs": [
    {
     "data": {
      "image/png": "[encoded data removed]",
      "text/plain": [
       "<Figure size 432x288 with 1 Axes>"
      ]
     },
     "metadata": {
      "needs_background": "light"
     },
     "output_type": "display_data"
    }
   ],
   "source": [
    "states = kuramoto(A_gn, show=True)"
   ]
  },
  {
   "cell_type": "code",
   "execution_count": 83,
   "id": "b5e7176c",
   "metadata": {
    "ExecuteTime": {
     "end_time": "2022-06-16T12:44:26.478918Z",
     "start_time": "2022-06-16T12:44:08.524766Z"
    }
   },
   "outputs": [],
   "source": [
    "res = []\n",
    "\n",
    "for _ in range(100):\n",
    "    tmp = kuramoto(A_gn)\n",
    "    res.append(tmp[-1])\n",
    "    \n",
    "res = np.array(res)"
   ]
  },
  {
   "cell_type": "code",
   "execution_count": 84,
   "id": "99e9eb0f",
   "metadata": {
    "ExecuteTime": {
     "end_time": "2022-06-16T12:44:26.704952Z",
     "start_time": "2022-06-16T12:44:26.701930Z"
    }
   },
   "outputs": [],
   "source": []
  },
  {
   "cell_type": "code",
   "execution_count": 62,
   "id": "0460d711",
   "metadata": {
    "ExecuteTime": {
     "end_time": "2022-06-16T12:32:36.378903Z",
     "start_time": "2022-06-16T12:32:36.010834Z"
    }
   },
   "outputs": [],
   "source": [
    "dt = 0.001\n",
    "T = 1000\n",
    "\n",
    "strength = 0.5\n",
    "node_to_perturb = -1\n",
    "\n",
    "pert = np.zeros((T,N))\n",
    "pert[0] = states[-1]\n",
    "pert[0,node_to_perturb] += strength\n",
    "\n",
    "for t in range(1,T):\n",
    "    pert[t] = pert[t-1] + Model_Synchronization(pert[t-1], [], A_gn, [], w = 0., R = 1.) * dt"
   ]
  },
  {
   "cell_type": "code",
   "execution_count": 63,
   "id": "15e8b072",
   "metadata": {
    "ExecuteTime": {
     "end_time": "2022-06-16T12:32:37.189836Z",
     "start_time": "2022-06-16T12:32:36.625763Z"
    }
   },
   "outputs": [
    {
     "data": {
      "image/png": "[encoded data removed]",
      "text/plain": [
       "<Figure size 432x288 with 1 Axes>"
      ]
     },
     "metadata": {
      "needs_background": "light"
     },
     "output_type": "display_data"
    }
   ],
   "source": [
    "for i, tmp in enumerate(pert.T):\n",
    "    plt.plot(tmp, c=cs[comms[i]], alpha=0.9)\n",
    "    \n",
    "plt.xlabel('t')\n",
    "plt.ylabel(r'$\\theta_i$')\n",
    "plt.show()"
   ]
  },
  {
   "cell_type": "code",
   "execution_count": null,
   "id": "808f767e",
   "metadata": {},
   "outputs": [],
   "source": []
  }
 ],
 "metadata": {
  "kernelspec": {
   "display_name": "Python 3 (ipykernel)",
   "language": "python",
   "name": "python3"
  },
  "language_info": {
   "codemirror_mode": {
    "name": "ipython",
    "version": 3
   },
   "file_extension": ".py",
   "mimetype": "text/x-python",
   "name": "python",
   "nbconvert_exporter": "python",
   "pygments_lexer": "ipython3",
   "version": "3.6.9"
  },
  "varInspector": {
   "cols": {
    "lenName": 16,
    "lenType": 16,
    "lenVar": 40
   },
   "kernels_config": {
    "python": {
     "delete_cmd_postfix": "",
     "delete_cmd_prefix": "del ",
     "library": "var_list.py",
     "varRefreshCmd": "print(var_dic_list())"
    },
    "r": {
     "delete_cmd_postfix": ") ",
     "delete_cmd_prefix": "rm(",
     "library": "var_list.r",
     "varRefreshCmd": "cat(var_dic_list()) "
    }
   },
   "types_to_exclude": [
    "module",
    "function",
    "builtin_function_or_method",
    "instance",
    "_Feature"
   ],
   "window_display": false
  }
 },
 "nbformat": 4,
 "nbformat_minor": 5
}
